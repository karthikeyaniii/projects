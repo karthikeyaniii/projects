{
  "nbformat": 4,
  "nbformat_minor": 0,
  "metadata": {
    "colab": {
      "provenance": [],
      "authorship_tag": "ABX9TyMu9QsrtaJezg7nS+jX2EIw",
      "include_colab_link": true
    },
    "kernelspec": {
      "name": "python3",
      "display_name": "Python 3"
    },
    "language_info": {
      "name": "python"
    }
  },
  "cells": [
    {
      "cell_type": "markdown",
      "metadata": {
        "id": "view-in-github",
        "colab_type": "text"
      },
      "source": [
        "<a href=\"https://colab.research.google.com/github/karthikeyaniii/projects/blob/main/PRODIGY.ipynb\" target=\"_parent\"><img src=\"https://colab.research.google.com/assets/colab-badge.svg\" alt=\"Open In Colab\"/></a>"
      ]
    },
    {
      "cell_type": "code",
      "execution_count": null,
      "metadata": {
        "id": "FPBpk_yCafQO"
      },
      "outputs": [],
      "source": [
        "import os\n",
        "import tensorflow as tf\n",
        "# Load compressed models from tensorflow_hub\n",
        "os.environ['TFHUB_MODEL_LOAD_FORMAT'] = 'COMPRESSED'"
      ]
    },
    {
      "cell_type": "code",
      "source": [
        "import IPython.display as display\n",
        "\n",
        "import matplotlib.pyplot as plt\n",
        "import matplotlib as mpl\n",
        "mpl.rcParams['figure.figsize'] = (12, 12)\n",
        "mpl.rcParams['axes.grid'] = False\n",
        "\n",
        "import numpy as np\n",
        "import PIL.Image\n",
        "import time\n",
        "import functools"
      ],
      "metadata": {
        "id": "gdIsEKUbaq94"
      },
      "execution_count": null,
      "outputs": []
    },
    {
      "cell_type": "code",
      "source": [
        "def tensor_to_image(tensor):\n",
        "  tensor = tensor*255\n",
        "  tensor = np.array(tensor, dtype=np.uint8)\n",
        "  if np.ndim(tensor)>3:\n",
        "    assert tensor.shape[0] == 1\n",
        "    tensor = tensor[0]\n",
        "  return PIL.Image.fromarray(tensor)"
      ],
      "metadata": {
        "id": "Ami-dquear6I"
      },
      "execution_count": null,
      "outputs": []
    },
    {
      "cell_type": "code",
      "source": [
        "content_path = tf.keras.utils.get_file('YellowLabradorLooking_new.jpg', 'https://storage.googleapis.com/download.tensorflow.org/example_images/YellowLabradorLooking_new.jpg')\n",
        "style_path = tf.keras.utils.get_file('kandinsky5.jpg','https://storage.googleapis.com/download.tensorflow.org/example_images/Vassily_Kandinsky%2C_1913_-_Composition_7.jpg')"
      ],
      "metadata": {
        "id": "ALQbY2hpaydI"
      },
      "execution_count": null,
      "outputs": []
    },
    {
      "cell_type": "code",
      "source": [
        "def load_img(path_to_img):\n",
        "  max_dim = 512\n",
        "  img = tf.io.read_file(path_to_img)\n",
        "  img = tf.image.decode_image(img, channels=3)\n",
        "  img = tf.image.convert_image_dtype(img, tf.float32)\n",
        "\n",
        "  shape = tf.cast(tf.shape(img)[:-1], tf.float32)\n",
        "  long_dim = max(shape)\n",
        "  scale = max_dim / long_dim\n",
        "\n",
        "  new_shape = tf.cast(shape * scale, tf.int32)\n",
        "\n",
        "  img = tf.image.resize(img, new_shape)\n",
        "  img = img[tf.newaxis, :]\n",
        "  return img"
      ],
      "metadata": {
        "id": "k7OVFMKGazVf"
      },
      "execution_count": null,
      "outputs": []
    },
    {
      "cell_type": "code",
      "source": [
        "def imshow(image, title=None):\n",
        "  if len(image.shape) > 3:\n",
        "    image = tf.squeeze(image, axis=0)\n",
        "\n",
        "  plt.imshow(image)\n",
        "  if title:\n",
        "    plt.title(title)"
      ],
      "metadata": {
        "id": "bG8kJyvpa1xA"
      },
      "execution_count": null,
      "outputs": []
    },
    {
      "cell_type": "code",
      "source": [
        "content_image = load_img(content_path)\n",
        "style_image = load_img(style_path)\n",
        "\n",
        "plt.subplot(1, 2, 1)\n",
        "imshow(content_image, 'Content Image')\n",
        "\n",
        "plt.subplot(1, 2, 2)\n",
        "imshow(style_image, 'Style Image')"
      ],
      "metadata": {
        "id": "EBiFn714a31q"
      },
      "execution_count": null,
      "outputs": []
    },
    {
      "cell_type": "code",
      "source": [
        "import tensorflow_hub as hub\n",
        "hub_model = hub.load('https://tfhub.dev/google/magenta/arbitrary-image-stylization-v1-256/2')\n",
        "stylized_image = hub_model(tf.constant(content_image), tf.constant(style_image))[0]\n",
        "tensor_to_image(stylized_image)"
      ],
      "metadata": {
        "id": "jTj2VwC-a7vw"
      },
      "execution_count": null,
      "outputs": []
    },
    {
      "cell_type": "code",
      "source": [
        "import tensorflow_hub as hub\n",
        "import os\n",
        "\n",
        "# Specify the URL of the model and the path where you want to save it\n",
        "model_url = 'https://tfhub.dev/google/magenta/arbitrary-image-stylization-v1-256/2'\n",
        "save_path = '/content/sample_data/local_model'  # Path to save the model locally\n",
        "\n",
        "# Check if the model is already downloaded to avoid re-downloading\n",
        "if not os.path.exists(save_path):\n",
        "    hub_model = hub.load(model_url)  # Load the model from TensorFlow Hub\n",
        "    tf.saved_model.save(hub_model, save_path)  # Save the model locally\n",
        "    print(\"Model downloaded and cached locally.\")\n",
        "else:\n",
        "    print(\"Model already downloaded.\")"
      ],
      "metadata": {
        "id": "i7BZbLj6a-dh"
      },
      "execution_count": null,
      "outputs": []
    },
    {
      "cell_type": "code",
      "source": [
        "import shutil\n",
        "\n",
        "# Zip the saved model directory\n",
        "shutil.make_archive(save_path, 'zip', save_path)\n",
        "\n",
        "print(f\"Model saved and zipped at {save_path}.zip\")"
      ],
      "metadata": {
        "id": "7KdskCI-bA6w"
      },
      "execution_count": null,
      "outputs": []
    },
    {
      "cell_type": "code",
      "source": [
        "import streamlit as st\n",
        "import tensorflow as tf\n",
        "import tensorflow_hub as hub\n",
        "import numpy as np\n",
        "import PIL.Image\n",
        "import matplotlib.pyplot as plt\n",
        "import io\n",
        "import urllib.request\n",
        "\n",
        "# Function to load and preprocess images\n",
        "def load_img(path_to_img):\n",
        "    max_dim = 512\n",
        "    if isinstance(path_to_img, bytes):\n",
        "        img = tf.image.decode_image(path_to_img, channels=3)\n",
        "    else:\n",
        "        img = tf.io.read_file(path_to_img)\n",
        "        img = tf.image.decode_image(img, channels=3)\n",
        "    img = tf.image.convert_image_dtype(img, tf.float32)\n",
        "\n",
        "    shape = tf.cast(tf.shape(img)[:-1], tf.float32)\n",
        "    long_dim = max(shape)\n",
        "    scale = max_dim / long_dim\n",
        "\n",
        "    new_shape = tf.cast(shape * scale, tf.int32)\n",
        "\n",
        "    img = tf.image.resize(img, new_shape)\n",
        "    img = img[tf.newaxis, :]\n",
        "    return img\n",
        "\n",
        "# Function to convert tensor to image\n",
        "def tensor_to_image(tensor):\n",
        "    tensor = tensor * 255\n",
        "    tensor = np.array(tensor, dtype=np.uint8)\n",
        "    if np.ndim(tensor) > 3:\n",
        "        assert tensor.shape[0] == 1\n",
        "        tensor = tensor[0]\n",
        "    return PIL.Image.fromarray(tensor)\n",
        "\n",
        "# Load TensorFlow Hub model\n",
        "@st.cache(allow_output_mutation=True)\n",
        "def load_hub_model():\n",
        "    model_url = 'https://tfhub.dev/google/magenta/arbitrary-image-stylization-v1-256/2'\n",
        "    return hub.load(model_url)\n",
        "\n",
        "def main():\n",
        "    st.title('Neural Style Transfer')\n",
        "\n",
        "    model = load_hub_model()\n",
        "\n",
        "    st.sidebar.header('Upload Content and Style Images')\n",
        "    uploaded_content_image = st.sidebar.file_uploader(\"Choose content image\", type=[\"jpg\", \"jpeg\", \"png\"])\n",
        "    uploaded_style_image = st.sidebar.file_uploader(\"Choose style image\", type=[\"jpg\", \"jpeg\", \"png\"])\n",
        "\n",
        "    content_url = st.sidebar.text_input('Or Enter URL for Content Image', '')\n",
        "    style_url = st.sidebar.text_input('Or Enter URL for Style Image', '')\n",
        "\n",
        "    if uploaded_content_image:\n",
        "        content_image = load_img(uploaded_content_image.read())\n",
        "    elif content_url:\n",
        "        response = urllib.request.urlopen(content_url)\n",
        "        content_image = load_img(response.read())\n",
        "    else:\n",
        "        st.sidebar.warning(\"Please upload an image or provide a URL for the content image.\")\n",
        "        return\n",
        "\n",
        "    if uploaded_style_image:\n",
        "        style_image = load_img(uploaded_style_image.read())\n",
        "    elif style_url:\n",
        "        response = urllib.request.urlopen(style_url)\n",
        "        style_image = load_img(response.read())\n",
        "    else:\n",
        "        st.sidebar.warning(\"Please upload an image or provide a URL for the style image.\")\n",
        "        return\n",
        "\n",
        "    st.image(tensor_to_image(content_image), caption='Content Image', use_column_width=True)\n",
        "    st.image(tensor_to_image(style_image), caption='Style Image', use_column_width=True)\n",
        "\n",
        "    if st.button('Apply Style Transfer'):\n",
        "        stylized_image = model(tf.constant(content_image), tf.constant(style_image))[0]\n",
        "        st.image(tensor_to_image(stylized_image), caption='Stylized Image', use_column_width=True)\n",
        "\n",
        "if __name__ == \"__main__\":\n",
        "    main()"
      ],
      "metadata": {
        "id": "3kCuLh5JbEPJ"
      },
      "execution_count": null,
      "outputs": []
    },
    {
      "cell_type": "code",
      "source": [],
      "metadata": {
        "id": "RI0wUEgnbNxH"
      },
      "execution_count": null,
      "outputs": []
    }
  ]
}